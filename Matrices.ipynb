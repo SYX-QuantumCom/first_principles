{
 "cells": [
  {
   "cell_type": "markdown",
   "metadata": {},
   "source": [
    "# Introduction"
   ]
  },
  {
   "cell_type": "markdown",
   "metadata": {},
   "source": [
    "The purpose of the notebook is illustrate how matrix mathematics works in the context of images. Linear algebra is notoriously difficult to teach because it's difficult to visualize. However, I've found visualizing matrices as images to be incredibly helpful in my journey.\n",
    "\n",
    "So, my aim is to introduce abstract matrix algebra concepts in the context of how they can be used to manipulate images.\n",
    "\n",
    "Let's get to it!\n",
    "\n",
    "An image is an array of shape $(height, width, channels)$ and can be in `RGB`, `BGR`, `HSB`, `HSV` or other image formats, for which `channels` is typically 3.\n",
    "\n",
    "An important bit of terminology around matrices and arrays: An array is synonymous with a matrix (though there are minor differences in certain OOP programming languages like MatLab). I will use them interchangeably."
   ]
  },
  {
   "cell_type": "markdown",
   "metadata": {},
   "source": [
    "---"
   ]
  },
  {
   "cell_type": "markdown",
   "metadata": {},
   "source": [
    "# What's the plan?"
   ]
  },
  {
   "cell_type": "markdown",
   "metadata": {},
   "source": [
    "So, we're going to cover:\n",
    "* Matrix creation and type casting\n",
    "* Basic arithmetic operations\n",
    "* Statistical operations\n",
    "* Linear transformations (like rotation, shifting, flipping)\n",
    "* Concatenation\n",
    "* Index slicing\n",
    "* Stacking"
   ]
  },
  {
   "cell_type": "markdown",
   "metadata": {},
   "source": [
    "---"
   ]
  },
  {
   "cell_type": "markdown",
   "metadata": {},
   "source": [
    "# The Right Tools For The Job"
   ]
  },
  {
   "cell_type": "markdown",
   "metadata": {},
   "source": [
    "One of python's flagship packages is `numpy`, a scientific package that provides a plethora of functions to manipulate matrices. If you want to get deep into linear algebra, this is where you start. We're going to use numpy to manipulate our image matrices in cool ways!\n",
    "\n",
    "Then, there's `OpenCV`. A computer vision library with tonnes of implementations for conventional computer vision methods. Including Gaussian blurring, Canny Edge and even Laplace transforms! it's built with numpy :)\n",
    "\n",
    "Lastly, there's `matplotlib`. This package has a reputation for requiring a huge amount of code to display simple graphs. While the rumours are true, it provides great utility and also does a lot of heavy lifting without you noticing. If you're like me, then you're dumb enough to look at the source code. Trust me, it does a lot of secret heavy lifting..."
   ]
  },
  {
   "cell_type": "markdown",
   "metadata": {},
   "source": [
    "---"
   ]
  },
  {
   "cell_type": "markdown",
   "metadata": {},
   "source": [
    "## Import Libraries"
   ]
  },
  {
   "cell_type": "code",
   "execution_count": 1,
   "metadata": {},
   "outputs": [],
   "source": [
    "%matplotlib inline\n",
    "\n",
    "import matplotlib.pyplot as plt\n",
    "import numpy as np\n",
    "import cv2"
   ]
  },
  {
   "cell_type": "markdown",
   "metadata": {},
   "source": [
    "Line 1 `%matplotlib inline` instructs the notebook to display all graphs within the editor.\n",
    "\n",
    "`matplotlib` typically spins up it's own widget in which it dispays graphs. We're overriding that so that we can view the graphs in Jupyter Notebook output cells and create a new cell for the graphs / images everytime you call a show or plot function."
   ]
  },
  {
   "cell_type": "markdown",
   "metadata": {},
   "source": [
    "---"
   ]
  },
  {
   "cell_type": "markdown",
   "metadata": {},
   "source": [
    "## Matrix/Array Creation and Type Casting"
   ]
  },
  {
   "cell_type": "markdown",
   "metadata": {},
   "source": [
    "There are many ways to create an array with numpy"
   ]
  },
  {
   "cell_type": "code",
   "execution_count": 2,
   "metadata": {},
   "outputs": [
    {
     "name": "stdout",
     "output_type": "stream",
     "text": [
      "[0 1 2 3 4]\n"
     ]
    }
   ],
   "source": [
    "# Create array from Python list\n",
    "\n",
    "print(np.array([0,1,2,3,4]))"
   ]
  },
  {
   "cell_type": "code",
   "execution_count": 3,
   "metadata": {},
   "outputs": [
    {
     "name": "stdout",
     "output_type": "stream",
     "text": [
      "[0 1 2 3 4]\n"
     ]
    }
   ],
   "source": [
    "# Create array from Python range\n",
    "\n",
    "print(np.array(range(0,5)))"
   ]
  },
  {
   "cell_type": "code",
   "execution_count": 4,
   "metadata": {},
   "outputs": [
    {
     "name": "stdout",
     "output_type": "stream",
     "text": [
      "[0 1 2 3 4]\n"
     ]
    }
   ],
   "source": [
    "# Create array from numpy range\n",
    "\n",
    "print(np.arange(0,5))"
   ]
  },
  {
   "cell_type": "code",
   "execution_count": 5,
   "metadata": {},
   "outputs": [
    {
     "name": "stdout",
     "output_type": "stream",
     "text": [
      "[0 2 4 6]\n"
     ]
    }
   ],
   "source": [
    "# Like a Python range you can also specify a step count\n",
    "\n",
    "print(np.arange(0,7,2))"
   ]
  },
  {
   "cell_type": "code",
   "execution_count": 6,
   "metadata": {},
   "outputs": [
    {
     "name": "stdout",
     "output_type": "stream",
     "text": [
      "[0. 0. 0. 0. 0.]\n"
     ]
    }
   ],
   "source": [
    "# Create an array of zeros\n",
    "\n",
    "print(np.zeros(5))"
   ]
  },
  {
   "cell_type": "code",
   "execution_count": 7,
   "metadata": {},
   "outputs": [
    {
     "name": "stdout",
     "output_type": "stream",
     "text": [
      "[1. 1. 1. 1. 1.]\n"
     ]
    }
   ],
   "source": [
    "# Create an array of ones\n",
    "\n",
    "print(np.ones(5))"
   ]
  },
  {
   "cell_type": "markdown",
   "metadata": {},
   "source": [
    "You can also specify the precision of the matrix by specifying the data type it contains"
   ]
  },
  {
   "cell_type": "code",
   "execution_count": 8,
   "metadata": {},
   "outputs": [
    {
     "name": "stdout",
     "output_type": "stream",
     "text": [
      "[0 1 2 3 4]\n"
     ]
    }
   ],
   "source": [
    "# Unsigned 8 bit integer\n",
    "\n",
    "print(np.arange(0,5, dtype='uint8'))"
   ]
  },
  {
   "cell_type": "code",
   "execution_count": 9,
   "metadata": {},
   "outputs": [
    {
     "name": "stdout",
     "output_type": "stream",
     "text": [
      "[0 1 2 3 4]\n"
     ]
    }
   ],
   "source": [
    "# Unsigned 16 bit integer\n",
    "\n",
    "print(np.arange(0,5, dtype='uint16'))"
   ]
  },
  {
   "cell_type": "code",
   "execution_count": 10,
   "metadata": {},
   "outputs": [
    {
     "name": "stdout",
     "output_type": "stream",
     "text": [
      "[0. 1. 2. 3. 4.]\n"
     ]
    }
   ],
   "source": [
    "# 32 bit float\n",
    "\n",
    "print(np.arange(0,5, dtype='float32'))"
   ]
  },
  {
   "cell_type": "markdown",
   "metadata": {},
   "source": [
    "For more supported data types you can visit\n",
    "\n",
    "https://numpy.org/devdocs/user/basics.types.html"
   ]
  },
  {
   "cell_type": "markdown",
   "metadata": {},
   "source": [
    "You can also change the type of an array using the `astype()` function"
   ]
  },
  {
   "cell_type": "code",
   "execution_count": 11,
   "metadata": {},
   "outputs": [
    {
     "name": "stdout",
     "output_type": "stream",
     "text": [
      "Integer array: [0 1 2 3 4]\n",
      "Float array: [0. 1. 2. 3. 4.]\n"
     ]
    }
   ],
   "source": [
    "integer_array_1 = np.arange(0,5, dtype='uint8')\n",
    "float_array_1 = integer_array_1.astype('float32')\n",
    "\n",
    "print(f'Integer array: {integer_array_1}')\n",
    "print(f'Float array: {float_array_1}')"
   ]
  },
  {
   "cell_type": "markdown",
   "metadata": {},
   "source": [
    "---"
   ]
  },
  {
   "cell_type": "markdown",
   "metadata": {},
   "source": [
    "## Matrix Arithmetic"
   ]
  },
  {
   "cell_type": "markdown",
   "metadata": {},
   "source": [
    "This may (or may not) come as a surprise to you but matrices have different kinds of arithmetic operations.\n",
    "\n",
    "For example, multiplication, division and powers has several variations. We're going to focus on the two classes:\n",
    "`Scalar Operations` and `Vector Operations`."
   ]
  },
  {
   "cell_type": "markdown",
   "metadata": {},
   "source": [
    "### Scalar (Elementwise) Operations"
   ]
  },
  {
   "cell_type": "markdown",
   "metadata": {},
   "source": [
    "These are the kinds of operations everyone is most familiar with, they are also the most intuitive.\n",
    "\n",
    "Operations of this type interact between individual corresponding elements of matrices and are referred to as _elementwise_ operations. For example, the element $a_{ij}$ of the matrix $A$ will interact with the $b_{ij}$ element of matrix $B$.\n",
    "\n",
    "Some of these operations are called _Hadamard_ Operations."
   ]
  },
  {
   "cell_type": "markdown",
   "metadata": {},
   "source": [
    "---"
   ]
  },
  {
   "cell_type": "markdown",
   "metadata": {},
   "source": [
    "#### Addition\n",
    "\n",
    "Let $A = \\begin{bmatrix}\n",
    "a_{00} & a_{01} & a_{02} \\\\\n",
    "a_{10} & a_{11} & a_{12} \\\\\n",
    "a_{20} & a_{21} & a_{22}\n",
    "\\end{bmatrix},\n",
    " B = \\begin{bmatrix}\n",
    "b_{00} & b_{01} & b_{02} \\\\\n",
    "b_{10} & b_{11} & b_{12} \\\\\n",
    "b_{20} & b_{21} & b_{22}\n",
    "\\end{bmatrix}$\n",
    "\n",
    "</br>\n",
    "\n",
    "Then \n",
    "$A + B = \n",
    "\\begin{bmatrix}\n",
    "a_{00} + b_{00} & a_{01} + b_{01} & a_{02} + b_{02} \\\\\n",
    "a_{10} + b_{10} & a_{11} + b_{11} & a_{12} + b_{12} \\\\\n",
    "a_{20} + b_{20} & a_{21} + b_{21} & a_{22} + b_{22}\n",
    "\\end{bmatrix}$\n",
    "\n",
    "</br>\n",
    "\n",
    "For example:\n",
    "\n",
    "Let\n",
    "$A = \\begin{bmatrix}\n",
    "1 & 1 & 1 \\\\\n",
    "0 & 0 & 0 \\\\\n",
    "0 & 0 & 0\n",
    "\\end{bmatrix},\n",
    " B = \\begin{bmatrix}\n",
    "0 & 0 & 0 \\\\\n",
    "2 & 2 & 2 \\\\\n",
    "0 & 0 & 0\n",
    "\\end{bmatrix}$\n",
    "\n",
    "</br>\n",
    "\n",
    "Then $A+B=\n",
    "\\begin{bmatrix}\n",
    "1 & 1 & 1 \\\\\n",
    "2 & 2 & 2 \\\\\n",
    "0 & 0 & 0\n",
    "\\end{bmatrix}$"
   ]
  },
  {
   "cell_type": "code",
   "execution_count": 12,
   "metadata": {},
   "outputs": [
    {
     "name": "stdout",
     "output_type": "stream",
     "text": [
      "[[1 1 1]\n",
      " [2 2 2]\n",
      " [0 0 0]]\n"
     ]
    }
   ],
   "source": [
    "# Operator: +\n",
    "\n",
    "A = np.array([\n",
    "    [1,1,1],\n",
    "    [0,0,0],\n",
    "    [0,0,0]\n",
    "], dtype='uint8')\n",
    "\n",
    "B = np.array([\n",
    "    [0,0,0],\n",
    "    [2,2,2],\n",
    "    [0,0,0]\n",
    "], dtype='uint8')\n",
    "\n",
    "print(A+B)"
   ]
  },
  {
   "cell_type": "markdown",
   "metadata": {},
   "source": [
    "---"
   ]
  },
  {
   "cell_type": "markdown",
   "metadata": {},
   "source": [
    "#### Subtraction"
   ]
  },
  {
   "cell_type": "markdown",
   "metadata": {},
   "source": [
    "Let $A = \\begin{bmatrix}\n",
    "a_{00} & a_{01} & a_{02} \\\\\n",
    "a_{10} & a_{11} & a_{12} \\\\\n",
    "a_{20} & a_{21} & a_{22}\n",
    "\\end{bmatrix},\n",
    " B = \\begin{bmatrix}\n",
    "b_{00} & b_{01} & b_{02} \\\\\n",
    "b_{10} & b_{11} & b_{12} \\\\\n",
    "b_{20} & b_{21} & b_{22}\n",
    "\\end{bmatrix}$\n",
    "\n",
    "</br>\n",
    "\n",
    "Then \n",
    "$A + B = \n",
    "\\begin{bmatrix}\n",
    "a_{00} - b_{00} & a_{01} - b_{01} & a_{02} - b_{02} \\\\\n",
    "a_{10} - b_{10} & a_{11} - b_{11} & a_{12} - b_{12} \\\\\n",
    "a_{20} - b_{20} & a_{21} - b_{21} & a_{22} - b_{22}\n",
    "\\end{bmatrix}$\n",
    "\n",
    "</br>\n",
    "\n",
    "For example:\n",
    "\n",
    "Let\n",
    "$A = \\begin{bmatrix}\n",
    "3 & 3 & 3 \\\\\n",
    "3 & 3 & 3 \\\\\n",
    "3 & 3 & 3\n",
    "\\end{bmatrix},\n",
    " B = \\begin{bmatrix}\n",
    "1 & 1 & 1 \\\\\n",
    "2 & 2 & 2 \\\\\n",
    "3 & 3 & 3\n",
    "\\end{bmatrix}$\n",
    "\n",
    "</br>\n",
    "\n",
    "Then\n",
    "$A - B = \\begin{bmatrix}\n",
    "2 & 2 & 2 \\\\\n",
    "1 & 1 & 1 \\\\\n",
    "0 & 0 & 0\n",
    "\\end{bmatrix}$"
   ]
  },
  {
   "cell_type": "code",
   "execution_count": 13,
   "metadata": {},
   "outputs": [
    {
     "name": "stdout",
     "output_type": "stream",
     "text": [
      "[[2 2 2]\n",
      " [1 1 1]\n",
      " [0 0 0]]\n"
     ]
    }
   ],
   "source": [
    "# Operator: -\n",
    "\n",
    "A = np.array([\n",
    "    [3,3,3],\n",
    "    [3,3,3],\n",
    "    [3,3,3]\n",
    "], dtype='uint8')\n",
    "\n",
    "B = np.array([\n",
    "    [1,1,1],\n",
    "    [2,2,2],\n",
    "    [3,3,3]\n",
    "], dtype='uint8')\n",
    "\n",
    "print(A-B)"
   ]
  },
  {
   "cell_type": "markdown",
   "metadata": {},
   "source": [
    "---"
   ]
  },
  {
   "cell_type": "markdown",
   "metadata": {},
   "source": [
    "#### Multiplication (Hadamard Product)\n",
    "Conventional Matrix multiplication has you multiple successive rows with columns. _Hadamard_ multiplication takes two elements with the same indices from different matrices and multiplies them together.\n",
    "\n",
    "**NOTE** the symbol used to indicate _Hadamard_ multiplication of matrices is $\\circ$ but the product between elements is the normal $\\times$ symbol\n",
    "\n",
    "Let $A = \\begin{bmatrix}\n",
    "a_{00} & a_{01} & a_{02} \\\\\n",
    "a_{10} & a_{11} & a_{12} \\\\\n",
    "a_{20} & a_{21} & a_{22}\n",
    "\\end{bmatrix},\n",
    " B = \\begin{bmatrix}\n",
    "b_{00} & b_{01} & b_{02} \\\\\n",
    "b_{10} & b_{11} & b_{12} \\\\\n",
    "b_{20} & b_{21} & b_{22}\n",
    "\\end{bmatrix}$\n",
    "\n",
    "</br>\n",
    "\n",
    "Then \n",
    "$A \\circ B = \n",
    "\\begin{bmatrix}\n",
    "a_{00} \\times b_{00} & a_{01} \\times b_{01} & a_{02} \\times b_{02} \\\\\n",
    "a_{10} \\times b_{10} & a_{11} \\times b_{11} & a_{12} \\times b_{12} \\\\\n",
    "a_{20} \\times b_{20} & a_{21} \\times b_{21} & a_{22} \\times b_{22}\n",
    "\\end{bmatrix}$\n",
    "\n",
    "</br>\n",
    "\n",
    "For example:\n",
    "\n",
    "Let\n",
    "$A = \\begin{bmatrix}\n",
    "1 & 2 & 3 \\\\\n",
    "4 & 5 & 6 \\\\\n",
    "7 & 8 & 9\n",
    "\\end{bmatrix},\n",
    " B = \\begin{bmatrix}\n",
    "1 & 1 & 1 \\\\\n",
    "2 & 2 & 2 \\\\\n",
    "3 & 3 & 3\n",
    "\\end{bmatrix}$\n",
    "\n",
    "</br>\n",
    "\n",
    "$A \\circ B = \\begin{bmatrix}\n",
    "1 & 2 & 3 \\\\\n",
    "8 & 10 & 12 \\\\\n",
    "21 & 24 & 27\n",
    "\\end{bmatrix}$"
   ]
  },
  {
   "cell_type": "code",
   "execution_count": 14,
   "metadata": {},
   "outputs": [
    {
     "name": "stdout",
     "output_type": "stream",
     "text": [
      "[[ 1  2  3]\n",
      " [ 8 10 12]\n",
      " [21 24 27]]\n"
     ]
    }
   ],
   "source": [
    "# Operator: *\n",
    "\n",
    "A = np.array([\n",
    "    [1,2,3],\n",
    "    [4,5,6],\n",
    "    [7,8,9]\n",
    "], dtype='uint8')\n",
    "\n",
    "B = np.array([\n",
    "    [1,1,1],\n",
    "    [2,2,2],\n",
    "    [3,3,3]\n",
    "], dtype='uint8')\n",
    "\n",
    "print(A*B)"
   ]
  },
  {
   "cell_type": "markdown",
   "metadata": {},
   "source": [
    "---"
   ]
  },
  {
   "cell_type": "markdown",
   "metadata": {},
   "source": [
    "#### Division (Hadamard Division)\n",
    "Conventionally, the idea of dividing a matrix by another matrix doesn't really make sense (which is part of the reason why determinants were invented) because matrices are treated as entire systems. However, if you think about it in an _elementwise-kind-of-way_ then it does.\n",
    "\n",
    "**NOTE** the symbol used to indicate _Hadamard_ division of matrices is $\\oslash$ but the product between elements is the normal `\\` symbol but to make things more compact I'm using fractional notation.\n",
    "\n",
    "Let $A = \\begin{bmatrix}\n",
    "a_{00} & a_{01} & a_{02} \\\\\n",
    "a_{10} & a_{11} & a_{12} \\\\\n",
    "a_{20} & a_{21} & a_{22}\n",
    "\\end{bmatrix},\n",
    " B = \\begin{bmatrix}\n",
    "b_{00} & b_{01} & b_{02} \\\\\n",
    "b_{10} & b_{11} & b_{12} \\\\\n",
    "b_{20} & b_{21} & b_{22}\n",
    "\\end{bmatrix}$\n",
    "\n",
    "</br>\n",
    "\n",
    "Then \n",
    "$A \\oslash B = \n",
    "\\begin{bmatrix}\n",
    "\\frac{a_{00}}{b_{00}} & \\frac{a_{01}}{b_{01}} & \\frac{a_{02}}{b_{02}} \\\\\n",
    "\\frac{a_{10}}{b_{10}} & \\frac{a_{11}}{b_{11}} & \\frac{a_{12}}{b_{12}} \\\\\n",
    "\\frac{a_{20}}{b_{20}} & \\frac{a_{21}}{b_{21}} & \\frac{a_{22}}{b_{22}}\n",
    "\\end{bmatrix}$\n",
    "\n",
    "</br>\n",
    "\n",
    "For example:\n",
    "\n",
    "Let\n",
    "$A =\n",
    "\\begin{bmatrix}\n",
    "1 & 2 & 3 \\\\\n",
    "8 & 10 & 12 \\\\\n",
    "21 & 24 & 27\n",
    "\\end{bmatrix}, \n",
    "B = \\begin{bmatrix}\n",
    "1 & 2 & 3 \\\\\n",
    "4 & 5 & 6 \\\\\n",
    "7 & 8 & 9\n",
    "\\end{bmatrix}$\n",
    "\n",
    "</br>\n",
    "\n",
    "Then\n",
    "$A \\oslash B =\n",
    "\\begin{bmatrix}\n",
    "1 & 1 & 1 \\\\\n",
    "2 & 2 & 2 \\\\\n",
    "3 & 3 & 3\n",
    "\\end{bmatrix}$"
   ]
  },
  {
   "cell_type": "markdown",
   "metadata": {},
   "source": [
    "Before getting into code, there's something to be said about numpy's division operators. In numpy there are two: the **_floor division_** operator and the **_true division_** operator.\n",
    "\n",
    "The distiction is that true division is normal division, it gives you a decimal result. The floor division operator truncates the decimals and return an integer."
   ]
  },
  {
   "cell_type": "code",
   "execution_count": 15,
   "metadata": {},
   "outputs": [
    {
     "name": "stdout",
     "output_type": "stream",
     "text": [
      "[[1 1 1]\n",
      " [2 2 2]\n",
      " [3 3 3]]\n"
     ]
    }
   ],
   "source": [
    "# Operator (Floor division): //\n",
    "\n",
    "A = np.array([[1,2,3],[8,10,12],[21,24,27]], dtype='uint8')\n",
    "B = np.array([[1,2,3],[4,5,6],[7,8,9]], dtype='uint8')\n",
    "\n",
    "print(A//B)"
   ]
  },
  {
   "cell_type": "code",
   "execution_count": 16,
   "metadata": {},
   "outputs": [
    {
     "name": "stdout",
     "output_type": "stream",
     "text": [
      "[[1. 1. 1.]\n",
      " [2. 2. 2.]\n",
      " [3. 3. 3.]]\n"
     ]
    }
   ],
   "source": [
    "# Operator (True division): /\n",
    "\n",
    "A = np.array([[1,2,3],[8,10,12],[21,24,27]], dtype='uint8')\n",
    "B = np.array([[1,2,3],[4,5,6],[7,8,9]], dtype='uint8')\n",
    "\n",
    "print(A/B)"
   ]
  },
  {
   "cell_type": "markdown",
   "metadata": {},
   "source": [
    "---"
   ]
  },
  {
   "cell_type": "markdown",
   "metadata": {},
   "source": [
    "### Power (Hadamard Power)\n",
    "\n",
    "Conventionally, raising a matrix to a power involves multiplying the matrix by itself a number of times equal to the power (it has to be an integer). However, with _Hadamard_ power, you raise each element to the power (just like with product and division).\n",
    "\n",
    "**NOTE** The symbol used here is the same as multiplication $\\circ$ but it's used as the exponent. Because fractional exponents are permitted, roots are calculated the same way as integer powers. Reciprocals have their own function."
   ]
  },
  {
   "cell_type": "markdown",
   "metadata": {},
   "source": [
    "---"
   ]
  },
  {
   "cell_type": "markdown",
   "metadata": {},
   "source": [
    "#### Integer Powers\n",
    "\n",
    "Let\n",
    "$A = \\begin{bmatrix}\n",
    "a_{00} & a_{01} & a_{02} \\\\\n",
    "a_{10} & a_{11} & a_{12} \\\\\n",
    "a_{20} & a_{21} & a_{22}\n",
    "\\end{bmatrix}$\n",
    "\n",
    "</br>\n",
    "\n",
    "Then\n",
    "$A^{\\circ2} = \\begin{bmatrix}\n",
    "a_{00}^2 & a_{01}^2 & a_{02}^2 \\\\\n",
    "a_{10}^2 & a_{11}^2 & a_{12}^2 \\\\\n",
    "a_{20}^2 & a_{21}^2 & a_{22}^2\n",
    "\\end{bmatrix}$\n",
    "\n",
    "</br>\n",
    "\n",
    "For example:\n",
    "\n",
    "Let\n",
    "$A =\n",
    "\\begin{bmatrix}\n",
    "1 & 2 & 3 \\\\\n",
    "4 & 5 & 6 \\\\\n",
    "7 & 8 & 9\n",
    "\\end{bmatrix}$\n",
    "\n",
    "</br>\n",
    "\n",
    "Then\n",
    "$A^{\\circ2} =\n",
    "\\begin{bmatrix}\n",
    "1 & 4 & 9 \\\\\n",
    "16 & 25 & 36 \\\\\n",
    "49 & 64 & 81\n",
    "\\end{bmatrix}$"
   ]
  },
  {
   "cell_type": "code",
   "execution_count": 17,
   "metadata": {},
   "outputs": [
    {
     "name": "stdout",
     "output_type": "stream",
     "text": [
      "[[ 1  4  9]\n",
      " [16 25 36]\n",
      " [49 64 81]]\n"
     ]
    }
   ],
   "source": [
    "# Operator: **\n",
    "\n",
    "A = np.array([[1,2,3],[4,5,6],[7,8,9]], dtype='uint8')\n",
    "\n",
    "print(A**2)"
   ]
  },
  {
   "cell_type": "markdown",
   "metadata": {},
   "source": [
    "---"
   ]
  },
  {
   "cell_type": "markdown",
   "metadata": {},
   "source": [
    "#### Fractional Powers\n",
    "\n",
    "Let's take a classic example, the square root. Raising an element to the power of a half gives you the square root, same with _Hadamard_.\n",
    "\n",
    "Let\n",
    "$A = \\begin{bmatrix}\n",
    "a_{00} & a_{01} & a_{02} \\\\\n",
    "a_{10} & a_{11} & a_{12} \\\\\n",
    "a_{20} & a_{21} & a_{22}\n",
    "\\end{bmatrix}$\n",
    "\n",
    "</br>\n",
    "\n",
    "Then\n",
    "$A^{\\circ\\frac{1}{2}} = \\begin{bmatrix}\n",
    "a_{00}^\\frac{1}{2} & a_{01}^\\frac{1}{2} & a_{02}^\\frac{1}{2} \\\\\n",
    "a_{10}^\\frac{1}{2} & a_{11}^\\frac{1}{2} & a_{12}^\\frac{1}{2} \\\\\n",
    "a_{20}^\\frac{1}{2} & a_{21}^\\frac{1}{2} & a_{22}^\\frac{1}{2}\n",
    "\\end{bmatrix}\n",
    "=\n",
    "\\begin{bmatrix}\n",
    "\\sqrt{a_{00}} & \\sqrt{a_{01}} & \\sqrt{a_{02}} \\\\\n",
    "\\sqrt{a_{10}} & \\sqrt{a_{11}} & \\sqrt{a_{12}} \\\\\n",
    "\\sqrt{a_{20}} & \\sqrt{a_{21}} & \\sqrt{a_{22}}\n",
    "\\end{bmatrix}$\n",
    "\n",
    "</br>\n",
    "\n",
    "For example:\n",
    "\n",
    "Let\n",
    "$A =\n",
    "\\begin{bmatrix}\n",
    "1 & 2 & 3 \\\\\n",
    "4 & 5 & 6 \\\\\n",
    "7 & 8 & 9\n",
    "\\end{bmatrix}$\n",
    "\n",
    "</br>\n",
    "\n",
    "Then\n",
    "$A^{\\frac{1}{2}} =\n",
    "\\begin{bmatrix}\n",
    "1.00 & 0.41 & 1.73 \\\\\n",
    "2.00 & 2.24 & 2.45 \\\\\n",
    "2.65 & 2.83 & 3.00\n",
    "\\end{bmatrix}$\n",
    "\n",
    "</br>\n",
    "\n",
    "Rounded for brevity to 2 decimal places."
   ]
  },
  {
   "cell_type": "code",
   "execution_count": 18,
   "metadata": {},
   "outputs": [
    {
     "name": "stdout",
     "output_type": "stream",
     "text": [
      "[[1.   1.41 1.73]\n",
      " [2.   2.24 2.45]\n",
      " [2.65 2.83 3.  ]]\n"
     ]
    }
   ],
   "source": [
    "# Operator: **\n",
    "\n",
    "A = np.array([\n",
    "    [1,2,3],\n",
    "    [4,5,6],\n",
    "    [7,8,9]]\n",
    ")\n",
    "\n",
    "print(np.round(A**0.5, 2))"
   ]
  },
  {
   "cell_type": "markdown",
   "metadata": {},
   "source": [
    "---"
   ]
  },
  {
   "cell_type": "markdown",
   "metadata": {},
   "source": [
    "#### Reciprocals\n",
    "\n",
    "Reciprocals have their own function but you can also use the divison operators `/` and `//`.\n",
    "\n",
    "Let\n",
    "$A^{\\circ-1} = \\begin{bmatrix}\n",
    "a_{00}^{-1} & a_{01}^{-1} & a_{02}^{-1} \\\\\n",
    "a_{10}^{-1} & a_{11}^{-1} & a_{12}^{-1} \\\\\n",
    "a_{20}^{-1} & a_{21}^{-1} & a_{22}^{-1}\n",
    "\\end{bmatrix}\n",
    "=\n",
    "\\begin{bmatrix}\n",
    "\\frac{1}{a_{00}} & \\frac{1}{a_{01}} & \\frac{1}{a_{02}} \\\\\n",
    "\\frac{1}{a_{10}} & \\frac{1}{a_{11}} & \\frac{1}{a_{12}} \\\\\n",
    "\\frac{1}{a_{20}} & \\frac{1}{a_{21}} & \\frac{1}{a_{22}}\n",
    "\\end{bmatrix}$\n",
    "\n",
    "</br>\n",
    "\n",
    "For example:\n",
    "\n",
    "Let\n",
    "$A =\n",
    "\\begin{bmatrix}\n",
    "1 & 2 & 3 \\\\\n",
    "4 & 5 & 6 \\\\\n",
    "7 & 8 & 9\n",
    "\\end{bmatrix}$\n",
    "\n",
    "</br>\n",
    "\n",
    "Then\n",
    "$A^{\\circ-1} =\n",
    "\\begin{bmatrix}\n",
    "1.00 & 0.50 & 0.33 \\\\\n",
    "0.25 & 0.20 & 1.17 \\\\\n",
    "0.14 & 0.12 & 0.11\n",
    "\\end{bmatrix}$"
   ]
  },
  {
   "cell_type": "code",
   "execution_count": 19,
   "metadata": {},
   "outputs": [
    {
     "name": "stdout",
     "output_type": "stream",
     "text": [
      "[[1.   0.5  0.33]\n",
      " [0.25 0.2  0.17]\n",
      " [0.14 0.12 0.11]]\n"
     ]
    }
   ],
   "source": [
    "# Operator (True Division): /\n",
    "\n",
    "A = np.array([\n",
    "    [1,2,3],\n",
    "    [4,5,6],\n",
    "    [7,8,9]]\n",
    ")\n",
    "\n",
    "print(np.round(1/A, 2))"
   ]
  },
  {
   "cell_type": "code",
   "execution_count": 20,
   "metadata": {},
   "outputs": [
    {
     "name": "stdout",
     "output_type": "stream",
     "text": [
      "[[1 0 0]\n",
      " [0 0 0]\n",
      " [0 0 0]]\n"
     ]
    }
   ],
   "source": [
    "# Operator (Floor Division): //\n",
    "\n",
    "A = np.array([\n",
    "    [1,2,3],\n",
    "    [4,5,6],\n",
    "    [7,8,9]]\n",
    ")\n",
    "\n",
    "print(1//A)"
   ]
  },
  {
   "cell_type": "markdown",
   "metadata": {},
   "source": [
    "---"
   ]
  },
  {
   "cell_type": "markdown",
   "metadata": {},
   "source": [
    "### Scalar Operations Applied to Images\n",
    "\n",
    "Now that we've gone through some formal and some not-so-formal definitions of what these operators do. Let's make some pretty pictures.\n",
    "\n",
    "In true milennial fashion, we're going to make a smiling emoji. That's the life we live now... I've accepted it, you should too...\n",
    "\n",
    "We're going to start off with grayscale and then move onto colour. Below is a picture of the little guy we're going to make. It's an (8,9,1) shape image. The straight forward way would be to create the array and manually assign the entries to some numerical value and then display the image.\n",
    "\n",
    "**NOTE** We use `uint8` because that's the typical type that images expect, our values can be anything from 0 to 255."
   ]
  },
  {
   "cell_type": "code",
   "execution_count": 21,
   "metadata": {},
   "outputs": [
    {
     "data": {
      "image/png": "[encoded data removed]",
      "text/plain": [
       "<Figure size 432x288 with 1 Axes>"
      ]
     },
     "metadata": {
      "needs_background": "light"
     },
     "output_type": "display_data"
    }
   ],
   "source": [
    "emoji_full = np.array([\n",
    "    [0,0,120,120,120,120,120,0,0],\n",
    "    [0,120,120,120,120,120,120,120,0],\n",
    "    [120,120,255,120,120,120,255,120,120],\n",
    "    [120,255,120,255,120,255,120,255,120],\n",
    "    [120,120,120,120,120,120,120,120,120],\n",
    "    [120,120,255,120,120,120,255,120,120],\n",
    "    [0,120,120,255,255,255,120,120,0],\n",
    "    [0,0,120,120,120,120,120,0,0]\n",
    "], dtype='uint8')\n",
    "\n",
    "plt.axis('off') # disabled axes for aesthetic reasons\n",
    "plt.imshow(emoji_full, cmap='gray')\n",
    "plt.show()"
   ]
  },
  {
   "cell_type": "markdown",
   "metadata": {},
   "source": [
    "---"
   ]
  },
  {
   "cell_type": "markdown",
   "metadata": {},
   "source": [
    "Easy right? Now let's have a look at what happens when we augment the images using scalar operations.\n",
    "\n",
    "First up is addition. We're going to take the emoji and iteratively add values to each pixel."
   ]
  },
  {
   "cell_type": "code",
   "execution_count": 22,
   "metadata": {},
   "outputs": [
    {
     "data": {
      "image/png": "[encoded data removed]",
      "text/plain": [
       "<Figure size 2160x1440 with 10 Axes>"
      ]
     },
     "metadata": {
      "needs_background": "light"
     },
     "output_type": "display_data"
    }
   ],
   "source": [
    "# Emoji with lower pixel values\n",
    "emoji_full = np.array([\n",
    "    [0,0,50,50,50,50,50,0,0],\n",
    "    [0,50,50,50,50,50,50,50,0],\n",
    "    [50,50,100,50,50,50,100,50,50],\n",
    "    [50,100,50,100,50,100,50,100,50],\n",
    "    [50,50,50,50,50,50,50,50,50],\n",
    "    [50,50,100,50,50,50,100,50,50],\n",
    "    [0,50,50,100,100,100,50,50,0],\n",
    "    [0,0,50,50,50,50,50,0,0]\n",
    "], dtype='uint8')\n",
    "\n",
    "# Number of times to add to the pixels\n",
    "no_permutations = 10\n",
    "\n",
    "fig = plt.figure(figsize=(30,20))\n",
    "\n",
    "for i in range(0, no_permutations):\n",
    "    fig.add_subplot(1,no_permutations, i+1)\n",
    "    plt.axis('off')\n",
    "    plt.imshow(emoji_full+i*10, cmap='gray', vmin=0, vmax=255)\n",
    "\n",
    "plt.show()"
   ]
  },
  {
   "cell_type": "markdown",
   "metadata": {},
   "source": [
    "Since grayscale works on a colour band of black to white with gray between, higher values get progressively lighter. Which is evident from the above plot. This is an example of constant scaling. The opposite of this operation is equivalent to subtraction."
   ]
  },
  {
   "cell_type": "markdown",
   "metadata": {},
   "source": [
    "---"
   ]
  },
  {
   "cell_type": "code",
   "execution_count": 23,
   "metadata": {},
   "outputs": [
    {
     "data": {
      "image/png": "[encoded data removed]",
      "text/plain": [
       "<Figure size 2160x1440 with 10 Axes>"
      ]
     },
     "metadata": {
      "needs_background": "light"
     },
     "output_type": "display_data"
    }
   ],
   "source": [
    "# Emoji with lower pixel values\n",
    "emoji_full = np.array([\n",
    "    [0,0,13,13,13,13,13,0,0],\n",
    "    [0,13,13,13,13,13,13,13,0],\n",
    "    [13,13,25,13,13,13,25,13,13],\n",
    "    [13,25,13,25,13,25,13,25,13],\n",
    "    [13,13,13,13,13,13,13,13,13],\n",
    "    [13,13,25,13,13,13,25,13,13],\n",
    "    [0,13,13,25,25,25,13,13,0],\n",
    "    [0,0,13,13,13,13,13,0,0]\n",
    "], dtype='uint8')\n",
    "\n",
    "# Number of times to multiply to the pixels\n",
    "no_permutations = 10\n",
    "\n",
    "fig = plt.figure(figsize=(30,20))\n",
    "\n",
    "for i in range(0, no_permutations):\n",
    "    fig.add_subplot(1,no_permutations, i+1)\n",
    "    plt.axis('off')\n",
    "    plt.imshow(emoji_full*i, cmap='gray', vmin=0, vmax=255)\n",
    "\n",
    "plt.show()"
   ]
  },
  {
   "cell_type": "markdown",
   "metadata": {},
   "source": [
    "The above ouput is an example of multiplicative scaling. There is greater contrast between pixel values, especially at higher values. The opposite of this operation is equivalent to hadamard division."
   ]
  },
  {
   "cell_type": "markdown",
   "metadata": {},
   "source": [
    "---"
   ]
  },
  {
   "cell_type": "markdown",
   "metadata": {},
   "source": [
    "So far these operations have been quite boring BUT used differently they can be quite powerful! Instead of incrementally changing existing values, we're going to combine different matrices (using scalar operations) to recreate the smiley emoji.\n",
    "\n",
    "**NOTE** Matplotlib automatically scales values the appropriate range. In the next few examples the pixels values are going to be very low. Between 0 and 2. These will be automaticall adjusted to the correct values in the 0 to 255 range."
   ]
  },
  {
   "cell_type": "code",
   "execution_count": 24,
   "metadata": {},
   "outputs": [
    {
     "data": {
      "image/png": "[encoded data removed]",
      "text/plain": [
       "<Figure size 720x720 with 3 Axes>"
      ]
     },
     "metadata": {
      "needs_background": "light"
     },
     "output_type": "display_data"
    }
   ],
   "source": [
    "# Base\n",
    "emoji_face = np.array([\n",
    "    [0,0,1,1,1,1,1,0,0],\n",
    "    [0,1,1,1,1,1,1,1,0],\n",
    "    [1,1,1,1,1,1,1,1,1],\n",
    "    [1,1,1,1,1,1,1,1,1],\n",
    "    [1,1,1,1,1,1,1,1,1],\n",
    "    [1,1,1,1,1,1,1,1,1],\n",
    "    [0,1,1,1,1,1,1,1,0],\n",
    "    [0,0,1,1,1,1,1,0,0]\n",
    "], dtype='uint8')\n",
    "\n",
    "# Eyes\n",
    "emoji_eyes = np.array([\n",
    "    [0,0,0,0,0,0,0,0,0],\n",
    "    [0,0,0,0,0,0,0,0,0],\n",
    "    [0,0,1,0,0,0,1,0,0],\n",
    "    [0,1,0,1,0,1,0,1,0],\n",
    "    [0,0,0,0,0,0,0,0,0],\n",
    "    [0,0,0,0,0,0,0,0,0],\n",
    "    [0,0,0,0,0,0,0,0,0],\n",
    "    [0,0,0,0,0,0,0,0,0]\n",
    "], dtype='uint8')\n",
    "\n",
    "# Smile\n",
    "emoji_smile = np.array([\n",
    "    [0,0,0,0,0,0,0,0,0],\n",
    "    [0,0,0,0,0,0,0,0,0],\n",
    "    [0,0,0,0,0,0,0,0,0],\n",
    "    [0,0,0,0,0,0,0,0,0],\n",
    "    [0,0,0,0,0,0,0,0,0],\n",
    "    [0,0,1,0,0,0,1,0,0],\n",
    "    [0,0,0,1,1,1,0,0,0],\n",
    "    [0,0,0,0,0,0,0,0,0]\n",
    "], dtype='uint8')\n",
    "\n",
    "fig = plt.figure(figsize=(10,10))\n",
    "\n",
    "plt.subplot(1,3,1)\n",
    "plt.axis('off')\n",
    "plt.imshow(emoji_face, cmap='gray')\n",
    "\n",
    "plt.subplot(1,3,2)\n",
    "plt.axis('off')\n",
    "plt.imshow(emoji_eyes, cmap='gray')\n",
    "\n",
    "plt.subplot(1,3,3)\n",
    "plt.axis('off')\n",
    "plt.imshow(emoji_smile, cmap='gray')\n",
    "plt.show()"
   ]
  },
  {
   "cell_type": "markdown",
   "metadata": {},
   "source": [
    "I've separated the components of the emoji into different matrices, face, eyes and smile. As shown above. Now, if we add them all together we'll get the same picture."
   ]
  },
  {
   "cell_type": "code",
   "execution_count": 25,
   "metadata": {},
   "outputs": [
    {
     "data": {
      "image/png": "[encoded data removed]",
      "text/plain": [
       "<Figure size 432x288 with 1 Axes>"
      ]
     },
     "metadata": {
      "needs_background": "light"
     },
     "output_type": "display_data"
    }
   ],
   "source": [
    "plt.axis('off')\n",
    "plt.imshow(emoji_face + emoji_eyes + emoji_smile, cmap='gray')\n",
    "plt.show()"
   ]
  },
  {
   "cell_type": "markdown",
   "metadata": {},
   "source": [
    "This approach opens up some pretty cool opportunities. We'll be able to change the values of the individual components and then add them together, granting us fine control.\n",
    "\n",
    "For example, let's say we want to make the eyes brighter."
   ]
  },
  {
   "cell_type": "code",
   "execution_count": 26,
   "metadata": {
    "scrolled": true
   },
   "outputs": [
    {
     "data": {
      "image/png": "[encoded data removed]",
      "text/plain": [
       "<Figure size 432x288 with 1 Axes>"
      ]
     },
     "metadata": {
      "needs_background": "light"
     },
     "output_type": "display_data"
    }
   ],
   "source": [
    "plt.axis('off')\n",
    "plt.imshow(emoji_face + 2*emoji_eyes + emoji_smile, cmap='gray')\n",
    "plt.show()"
   ]
  },
  {
   "cell_type": "markdown",
   "metadata": {},
   "source": [
    "Done! What we've done, by adding the components together and changing only parts we're interested in, is called a `linear combination` (This is where matrix terminology starts popping up). The more familiar form should be something like `a + b + c = d`. In this case, `a` is the face, `b` is the eyes and `c` is the smile. The result, `d`, is the whole image.\n",
    "\n",
    "Similar results can be achieved by using any of the other scalar arithmetic operators."
   ]
  },
  {
   "cell_type": "markdown",
   "metadata": {},
   "source": [
    "---"
   ]
  },
  {
   "cell_type": "markdown",
   "metadata": {},
   "source": [
    "# Matrix Concatenation\n",
    "\n",
    "Concatenation is the act of adding something at the end of another thing. In the context of matrices, it would be equivalent to adding two (or more) matrices along a given dimension. The resulting matrix would be a bigger matrix.\n",
    "\n",
    "Let me show you. We're going to build the emoji again, but were going concatenate slices of it along it's two dimensions."
   ]
  },
  {
   "cell_type": "markdown",
   "metadata": {},
   "source": [
    "### Horizontal Slices\n",
    "\n",
    "I've sliced the original emoji image into 8 horizontal pieces, now if we plot the individual slices we can see how they contribute to the over all picture. For convenience, I've also set the minimum values to 0 and the maximum values to 2. Now matplotlib will normalize those values to the 0-255 grayscale range."
   ]
  },
  {
   "cell_type": "code",
   "execution_count": 27,
   "metadata": {},
   "outputs": [
    {
     "data": {
      "image/png": "[encoded data removed]",
      "text/plain": [
       "<Figure size 720x720 with 8 Axes>"
      ]
     },
     "metadata": {
      "needs_background": "light"
     },
     "output_type": "display_data"
    }
   ],
   "source": [
    "hslice_0 = np.array([[0,0,1,1,1,1,1,0,0]], dtype='uint8')\n",
    "hslice_1 = np.array([[0,1,1,1,1,1,1,1,0]], dtype='uint8')\n",
    "hslice_2 = np.array([[1,1,2,1,1,1,2,1,1]], dtype='uint8')\n",
    "hslice_3 = np.array([[1,2,1,2,1,2,1,2,1]], dtype='uint8')\n",
    "hslice_4 = np.array([[1,1,1,1,1,1,1,1,1]], dtype='uint8')\n",
    "hslice_5 = np.array([[1,1,2,1,1,1,2,1,1]], dtype='uint8')\n",
    "hslice_6 = np.array([[0,1,1,2,2,2,1,1,0]], dtype='uint8')\n",
    "hslice_7 = np.array([[0,0,1,1,1,1,1,0,0]], dtype='uint8')\n",
    "hslices = [hslice_0, hslice_1, hslice_2, hslice_3, hslice_4, hslice_5, hslice_6, hslice_7]\n",
    "\n",
    "fig = plt.figure(figsize=(10,10))\n",
    "args = {\n",
    "    'cmap':'gray',\n",
    "    'vmin':0,\n",
    "    'vmax':2\n",
    "}\n",
    "\n",
    "for i in range(1,9):\n",
    "    fig.add_subplot(8,1,i)\n",
    "    plt.axis('off')\n",
    "    plt.imshow(hslices[i-1], **args)\n",
    "\n",
    "plt.show()"
   ]
  },
  {
   "cell_type": "markdown",
   "metadata": {},
   "source": [
    "---"
   ]
  },
  {
   "cell_type": "markdown",
   "metadata": {},
   "source": [
    "Creepy right? We'll, we're not done yet! The next plot is for vertical slices!"
   ]
  },
  {
   "cell_type": "markdown",
   "metadata": {},
   "source": [
    "### Vertical Slices\n",
    "\n",
    "I've sliced the original image into 9 vertical pieces, plotting them similary as before."
   ]
  },
  {
   "cell_type": "code",
   "execution_count": 28,
   "metadata": {},
   "outputs": [
    {
     "data": {
      "image/png": "[encoded data removed]",
      "text/plain": [
       "<Figure size 720x720 with 9 Axes>"
      ]
     },
     "metadata": {
      "needs_background": "light"
     },
     "output_type": "display_data"
    }
   ],
   "source": [
    "# Vertical slices\n",
    "vslice_0 = np.array([[0],[0],[1],[1],[1],[1],[0],[0]], dtype='uint8')\n",
    "vslice_1 = np.array([[0],[1],[1],[2],[1],[1],[1],[0]], dtype='uint8')\n",
    "vslice_2 = np.array([[1],[1],[2],[1],[1],[2],[1],[1]], dtype='uint8')\n",
    "vslice_3 = np.array([[1],[1],[1],[2],[1],[1],[2],[1]], dtype='uint8')\n",
    "vslice_4 = np.array([[1],[1],[1],[1],[1],[1],[2],[1]], dtype='uint8')\n",
    "vslice_5 = np.array([[1],[1],[1],[2],[1],[1],[2],[1]], dtype='uint8')\n",
    "vslice_6 = np.array([[1],[1],[2],[1],[1],[2],[1],[1]], dtype='uint8')\n",
    "vslice_7 = np.array([[0],[1],[1],[2],[1],[1],[1],[0]], dtype='uint8')\n",
    "vslice_8 = np.array([[0],[0],[1],[1],[1],[1],[0],[0]], dtype='uint8')\n",
    "vslices = [vslice_0, vslice_1, vslice_2, vslice_3, vslice_4, vslice_5, vslice_6, vslice_7, vslice_8]\n",
    "\n",
    "fig = plt.figure(figsize=(10,10))\n",
    "args = {\n",
    "    'cmap':'gray',\n",
    "    'vmin':0,\n",
    "    'vmax':2\n",
    "}\n",
    "\n",
    "for i in range(1,10):\n",
    "    fig.add_subplot(1,9,i)\n",
    "    plt.axis('off')\n",
    "    plt.imshow(vslices[i-1], **args)\n",
    "\n",
    "plt.show()"
   ]
  },
  {
   "cell_type": "markdown",
   "metadata": {},
   "source": [
    "Isn't it cool how a mildy cute smiley emoji can be turned into a creepy **_af_** grayscale jack-o'-lantern?"
   ]
  },
  {
   "cell_type": "markdown",
   "metadata": {},
   "source": [
    "### Concatenating Along the Horizontal and Vertical Axis\n",
    "\n",
    "We can concatenate along the horizontal and vertical axes to rebuild the original image.\n",
    "\n",
    "**Note**: The horizontal axis is `0` and the vertical axis is `1`."
   ]
  },
  {
   "cell_type": "code",
   "execution_count": 29,
   "metadata": {},
   "outputs": [
    {
     "data": {
      "image/png": "[encoded data removed]",
      "text/plain": [
       "<Figure size 720x720 with 2 Axes>"
      ]
     },
     "metadata": {
      "needs_background": "light"
     },
     "output_type": "display_data"
    }
   ],
   "source": [
    "fig = plt.figure(figsize=(10,10))\n",
    "\n",
    "fig.add_subplot(1,2,1)\n",
    "plt.imshow(np.concatenate(tuple(hslices), axis=0), cmap='gray')\n",
    "plt.title('Horizontal Concatenation')\n",
    "plt.axis('off')\n",
    "\n",
    "fig.add_subplot(1,2,2)\n",
    "plt.imshow(np.concatenate(tuple(vslices), axis=1), cmap='gray')\n",
    "plt.title('Vertical Concatenation')\n",
    "plt.axis('off')\n",
    "\n",
    "plt.show()"
   ]
  },
  {
   "cell_type": "markdown",
   "metadata": {},
   "source": [
    "---"
   ]
  },
  {
   "cell_type": "markdown",
   "metadata": {},
   "source": [
    "So far so good but this grayscale is really boring don't you think?\n",
    "\n",
    "Let's shift to colour!"
   ]
  },
  {
   "cell_type": "markdown",
   "metadata": {},
   "source": [
    "### Concatenating Grayscale Images to Create Colour Images\n",
    "\n",
    "Colour images have what are called `channels`. A channel represents the values of a given colour format.\n",
    "\n",
    "Here are some examples:\n",
    "* The channels in an $RGB$ image are (unsurprisingly): $Red$, $Green$ and $Blue$\n",
    "* The channels in a $HSV$ image are: $Hue$, $Saturation$ and $Value$\n",
    "\n",
    "So, we're going to build an image by building the individual channels of an image. More specifically, we're going to build a coloured smiley face! This is going to take a bit more work though...\n",
    "\n",
    "We're going to take the emoji's face, eyes and smile components, modify them and then stick them together.\n",
    "\n",
    "For the sake of not having long variables names I'm shortening `emoji face` to `ef`, `emoji_eyes` to `ee` and `emoji_smile` to `es`."
   ]
  },
  {
   "cell_type": "markdown",
   "metadata": {},
   "source": [
    "### A Different Kind of Face Time\n",
    "\n",
    "Let's start by making a standard yellow emoji face. The colour I've chosen is `#FFE920`, $\\color{#FFE920}{\\textbf{which is this obnoxious colour}}$.\n",
    "\n",
    "The channel values are (255, 233, 32) in `RGB` format. "
   ]
  },
  {
   "cell_type": "code",
   "execution_count": 37,
   "metadata": {},
   "outputs": [
    {
     "data": {
      "image/png": "[encoded data removed]",
      "text/plain": [
       "<Figure size 432x288 with 1 Axes>"
      ]
     },
     "metadata": {
      "needs_background": "light"
     },
     "output_type": "display_data"
    }
   ],
   "source": [
    "# Create a copy of emoji_face for each channel and change the values to suit our horrific yellow colour\n",
    "ef_red = np.copy(emoji_face)*255\n",
    "ef_green = np.copy(emoji_face)*233\n",
    "ef_blue = np.copy(emoji_face)*32\n",
    "\n",
    "# Stack the channels along the 'depth' (or 3D) axis.\n",
    "coloured_face = np.dstack((ef_red, ef_green, ef_blue))\n",
    "\n",
    "plt.imshow(coloured_face)\n",
    "plt.axis('off')\n",
    "plt.show()"
   ]
  },
  {
   "cell_type": "markdown",
   "metadata": {},
   "source": [
    "The numpy method `dstack` is similar to `concatenate` except it stacks arrays along the depth axis. Useful for building images!"
   ]
  },
  {
   "cell_type": "markdown",
   "metadata": {},
   "source": [
    "### A Different Kind of Eye Time?\n",
    "\n",
    "Similar to the face, let's change colour of the eyes!"
   ]
  },
  {
   "cell_type": "code",
   "execution_count": 54,
   "metadata": {
    "scrolled": true
   },
   "outputs": [
    {
     "data": {
      "image/png": "[encoded data removed]",
      "text/plain": [
       "<Figure size 720x720 with 2 Axes>"
      ]
     },
     "metadata": {
      "needs_background": "light"
     },
     "output_type": "display_data"
    }
   ],
   "source": [
    "tmp = np.copy(emoji_eyes)*255\n",
    "em_red = np.copy(cv2.bitwise_not(tmp))\n",
    "em_green = np.copy(cv2.bitwise_not(tmp))\n",
    "em_blue = np.copy(cv2.bitwise_not(tmp))\n",
    "\n",
    "ee_red = np.copy(emoji_eyes)*144\n",
    "ee_green = np.copy(emoji_eyes)*134\n",
    "ee_blue = np.copy(emoji_eyes)*255\n",
    "\n",
    "eye_mask = np.dstack((em_red, em_green, em_blue))\n",
    "\n",
    "coloured_eyes = np.dstack((ee_red, ee_green, ee_blue))\n",
    "\n",
    "fig = plt.figure(figsize=(10,10))\n",
    "\n",
    "fig.add_subplot(1,2,1)\n",
    "plt.imshow(eye_mask)\n",
    "plt.axis('off')\n",
    "\n",
    "fig.add_subplot(1,2,2)\n",
    "plt.imshow(coloured_eyes)\n",
    "plt.axis('off')\n",
    "plt.show()"
   ]
  },
  {
   "cell_type": "code",
   "execution_count": 56,
   "metadata": {
    "scrolled": true
   },
   "outputs": [
    {
     "data": {
      "image/png": "[encoded data removed]",
      "text/plain": [
       "<Figure size 720x720 with 2 Axes>"
      ]
     },
     "metadata": {
      "needs_background": "light"
     },
     "output_type": "display_data"
    }
   ],
   "source": [
    "tmp = np.copy(emoji_smile)*255\n",
    "em_red = np.copy(cv2.bitwise_not(tmp))\n",
    "em_green = np.copy(cv2.bitwise_not(tmp))\n",
    "em_blue = np.copy(cv2.bitwise_not(tmp))\n",
    "\n",
    "es_red = np.copy(emoji_smile)*255\n",
    "es_green = np.copy(emoji_smile)*149\n",
    "es_blue = np.copy(emoji_smile)*135\n",
    "\n",
    "smile_mask = np.dstack((em_red, em_green, em_blue))\n",
    "coloured_smile = np.dstack((es_red, es_green, es_blue))\n",
    "\n",
    "fig = plt.figure(figsize=(10,10))\n",
    "\n",
    "fig.add_subplot(1,2,1)\n",
    "plt.imshow(smile_mask)\n",
    "plt.axis('off')\n",
    "\n",
    "fig.add_subplot(1,2,2)\n",
    "plt.imshow(coloured_smile)\n",
    "plt.axis('off')\n",
    "plt.show()"
   ]
  },
  {
   "cell_type": "code",
   "execution_count": 46,
   "metadata": {},
   "outputs": [
    {
     "data": {
      "image/png": "[encoded data removed]",
      "text/plain": [
       "<Figure size 432x288 with 1 Axes>"
      ]
     },
     "metadata": {
      "needs_background": "light"
     },
     "output_type": "display_data"
    }
   ],
   "source": [
    "coloured_face = coloured_face * coloured_eyes * coloured_smile\n",
    "\n",
    "plt.imshow(coloured_face)\n",
    "plt.axis('off')\n",
    "plt.show()"
   ]
  },
  {
   "cell_type": "code",
   "execution_count": 52,
   "metadata": {},
   "outputs": [
    {
     "data": {
      "image/png": "[encoded data removed]",
      "text/plain": [
       "<Figure size 432x288 with 1 Axes>"
      ]
     },
     "metadata": {
      "needs_background": "light"
     },
     "output_type": "display_data"
    }
   ],
   "source": [
    "face_canvas = coloured_face*\n",
    "coloured_face = coloured_face + coloured_eyes + coloured_smile\n",
    "plt.imshow(coloured_face)\n",
    "plt.axis('off')\n",
    "plt.show()"
   ]
  },
  {
   "cell_type": "markdown",
   "metadata": {},
   "source": [
    "---"
   ]
  },
  {
   "cell_type": "code",
   "execution_count": null,
   "metadata": {},
   "outputs": [],
   "source": [
    "center = (150, 150)\n",
    "(h, w) = (300, 300)"
   ]
  },
  {
   "cell_type": "markdown",
   "metadata": {},
   "source": [
    "Now we're going to construct a white rectangular bar, small black square and a large black rectangle.\n",
    "These will be our components. We do this by instantiating 3 numpy arrays filled with ones and zeros, for the\n",
    "rectangular bar and small square and large rectangle, respectively."
   ]
  },
  {
   "cell_type": "code",
   "execution_count": null,
   "metadata": {},
   "outputs": [],
   "source": [
    "white_bar = np.multiply(np.ones((140, 20), dtype='uint8'), 255)\n",
    "small_black_square = np.zeros((140, 140), dtype='uint8')\n",
    "large_black_rectangle = np.zeros((160, 300), dtype='uint8')"
   ]
  },
  {
   "cell_type": "markdown",
   "metadata": {},
   "source": [
    "I chose to use two different sized squares because it was easier to concantenate them that to modify a single square.\n",
    "Which, is possible but for our purposes concententation is easier to follow...\n",
    "\n",
    "I also multiplied the elements of the white bar by 255. This gives us a rectangular shaped array filled with 255's.\n",
    "In terms of a grayscale image, this means that the rectangular bar is filled with white pixels. Since 255 represents maximum saturation in grayscale, which is white. Conversely, 0 represents black since it has no saturation. Values between 0 and 255 are varying kinds of grays.\n",
    "\n",
    "Now we're going to concatenate the two small black squares and a white rectangle along the ```y-axis (axis 1)``` to create the top part of our image. Then, were going to concatenate the large black rectangle and the top part of the image along the ```x-axis (axis 0)``` to make our base image. Then, were going to show the result."
   ]
  },
  {
   "cell_type": "code",
   "execution_count": null,
   "metadata": {},
   "outputs": [],
   "source": [
    "img_top = np.concatenate((small_black_square, white_bar, small_black_square), axis=1)\n",
    "\n",
    "base = np.concatenate((img_top, large_black_rectangle), axis=0)\n",
    "\n",
    "plt.imshow(base, cmap='gray')\n",
    "plt.show()"
   ]
  },
  {
   "cell_type": "markdown",
   "metadata": {},
   "source": [
    "Cool, now were going to create a colour image. How?\n",
    "\n",
    "An ```RGB``` image is effectively 3 arrays layered on top of each other. The top layer is interpreted as the amount of red in the image, the middle layer as the amount of green and the bottom layer as the amount of blue. The structure of the 3D array will differ for different colour formats, such as ```BGR```, ```HSV```, ```HSL```, as will there values!\n",
    "\n",
    "But first, to prove a point, we're going to show one more matrix operation. Rotation."
   ]
  },
  {
   "cell_type": "code",
   "execution_count": null,
   "metadata": {},
   "outputs": [],
   "source": [
    "rotation_matrix_90 = cv2.getRotationMatrix2D(center, -90, 1.0)\n",
    "rotation_matrix_180 = cv2.getRotationMatrix2D(center, -180, 1.0)\n",
    "rotation_matrix_270 = cv2.getRotationMatrix2D(center, -270, 1.0)"
   ]
  },
  {
   "cell_type": "markdown",
   "metadata": {},
   "source": [
    "Above are three matrices which represent different rotations, by -90, -180 and -270 degrees respectively. We're using a function from the OpenCV library to expedite the process. Later on we're going to cover how to build these rotations manually, from first principles."
   ]
  },
  {
   "cell_type": "markdown",
   "metadata": {},
   "source": [
    "### Rotation"
   ]
  },
  {
   "cell_type": "markdown",
   "metadata": {},
   "source": [
    "Now, things get interesting! We're going to apply a -90 degree rotation to the base we made above."
   ]
  },
  {
   "cell_type": "code",
   "execution_count": null,
   "metadata": {
    "scrolled": true
   },
   "outputs": [],
   "source": [
    "rotated = cv2.warpAffine(base, rotation_matrix_90, (w, h))\n",
    "\n",
    "plt.imshow(rotated, cmap='gray')\n",
    "plt.show()"
   ]
  },
  {
   "cell_type": "markdown",
   "metadata": {},
   "source": [
    "As you can see, the base has been rotated! The convention in maths is that clockwise rotation is considered 'negative' and counter-clockwise is 'positive'. Hence why the angles above are all negative.\n",
    "\n",
    "You don't have to be too concerned about the function ```warpAffine``` above. Changing the value of a matrix with some kind of operation is called a tranformation. Multiplying a matrix by another is a type of transformation called an 'Affine Transformation'. And rotation is done by multiplying two matrices together, as you will see later!"
   ]
  },
  {
   "cell_type": "markdown",
   "metadata": {},
   "source": [
    "### Combining arrays to make new images"
   ]
  },
  {
   "cell_type": "markdown",
   "metadata": {},
   "source": [
    "Now we're going to take the base image and combine it 3 ways. Once with a -90 rotated version of itself (like the one above) once again for each -180 and -270 rotation. We do this by taking the base image, rotating it and then adding values of the two matrices together.\n",
    "\n",
    "The output of the 3 combinations will be displayed."
   ]
  },
  {
   "cell_type": "code",
   "execution_count": null,
   "metadata": {
    "scrolled": true
   },
   "outputs": [],
   "source": [
    "red = cv2.warpAffine(base, rotation_matrix_90, (w, h)) + base\n",
    "green = cv2.warpAffine(base.copy(), rotation_matrix_180, (w,h)) + base\n",
    "blue = cv2.warpAffine(base.copy(), rotation_matrix_270, (w,h)) + base\n",
    "\n",
    "fig = plt.figure(figsize=(20, 20))\n",
    "\n",
    "fig.add_subplot(1, 3, 1)\n",
    "plt.title('RED')\n",
    "plt.imshow(red, cmap='gray')\n",
    "\n",
    "fig.add_subplot(1, 3, 2)\n",
    "plt.title('GREEN')\n",
    "plt.imshow(green, cmap='gray')\n",
    "\n",
    "fig.add_subplot(1, 3, 3)\n",
    "plt.title('BLUE')\n",
    "plt.imshow(blue, cmap='gray')\n",
    "\n",
    "plt.show()"
   ]
  },
  {
   "cell_type": "markdown",
   "metadata": {},
   "source": [
    "Sick! We've got our basis covered.\n",
    "\n",
    "One subtle thing lost in this code is that the `+` operator is a matrix operation. We took two matrices and added them together to create our new bases. This is scalar addition and is an elementwise operation for matrices.\n",
    "\n",
    "As stated previously, we're going to combine these images into a 3D array (matrix) and have the first image as our red layer, the second as our green layer and the last as our blue layer.\n",
    "\n",
    "Before we do, I want you to think about something. Since all the white values in the individual arrays are 255's what happens when you combine them to make a colour image?\n",
    "\n",
    "You'll soon find out."
   ]
  },
  {
   "cell_type": "markdown",
   "metadata": {},
   "source": [
    "### Building a colour image"
   ]
  },
  {
   "cell_type": "code",
   "execution_count": null,
   "metadata": {
    "scrolled": true
   },
   "outputs": [],
   "source": [
    "rgb = np.dstack((red,green,blue))\n",
    "\n",
    "plt.title('RGB')\n",
    "plt.imshow(rgb)\n",
    "plt.show()"
   ]
  },
  {
   "cell_type": "markdown",
   "metadata": {},
   "source": [
    "Boom! RGB image baby! Since each of the components had a top bar filled with 255's the resulting combination of RGB created a white bar! Since those were the only regions of overlap the individual components created colours according to their position in the 3D array."
   ]
  },
  {
   "cell_type": "markdown",
   "metadata": {},
   "source": [
    "That's more or less it for this part of the tutorial. Now, I want to unpack some of the things I hid away earlier. To show you how even the smallest things we take for granted are also matrix operations."
   ]
  },
  {
   "cell_type": "markdown",
   "metadata": {},
   "source": [
    "### Rotation - From first principles"
   ]
  },
  {
   "cell_type": "markdown",
   "metadata": {},
   "source": [
    "Pain time! Well, perhaps not so much for you? Getting this code to work was quite painful but worth it! (All coders and mathematicians are secretly a little masochistic).\n",
    "\n",
    "What I want to do now is show you how to rotate a matrix by multiplying it with another matrix!\n",
    "\n",
    "First, we create a blank canvas `rotated` and `rotation_matrix`. Then, we populate each element in `rotated` by multiplying the indices `i` and `j` of the original image by the `rotation_matrix` and storing the result in `rotated`."
   ]
  },
  {
   "cell_type": "code",
   "execution_count": null,
   "metadata": {
    "scrolled": true
   },
   "outputs": [],
   "source": [
    "rotated = np.zeros(rgb.shape, dtype='uint8')\n",
    "theta = -90\n",
    "rotation_matrix = np.array([\n",
    "    [np.cos(theta*np.pi/180), np.sin(theta*np.pi/180)],\n",
    "    [-np.sin(theta*np.pi/180), np.cos(theta*np.pi/180)]\n",
    "])\n",
    "\n",
    "origin_i = img_w//2\n",
    "origin_j = img_h//2\n",
    "\n",
    "for i in range(0, rgb.shape[0]):\n",
    "    for j in range(0, rgb.shape[1]):\n",
    "        for k in range(0, rgb.shape[2]):\n",
    "            ij = np.array([[i], [j]])\n",
    "            \n",
    "            ij_new = (rotation_matrix @ ij).reshape(2)\n",
    "\n",
    "            i_new = int(round(ij_new[0], 0))\n",
    "            j_new = int(round(ij_new[1], 0))\n",
    "\n",
    "            rotated[i_new, j_new, k] = rgb[i,j,k]\n",
    "\n",
    "plt.imshow(rotated)\n",
    "plt.show()"
   ]
  },
  {
   "cell_type": "code",
   "execution_count": null,
   "metadata": {},
   "outputs": [],
   "source": [
    "def rotate_image(image, angle):\n",
    "    rotated = np.zeros(image.shape, dtype='uint8')\n",
    "    \n",
    "    rotation_matrix = np.array([\n",
    "        [np.cos(angle*np.pi/180), np.sin(angle*np.pi/180)],\n",
    "        [-np.sin(angle*np.pi/180), np.cos(angle*np.pi/180)]\n",
    "    ])\n",
    "    \n",
    "    img_w = image.shape[0]\n",
    "    img_h = image.shape[1]\n",
    "\n",
    "    origin_i = img_w//2\n",
    "    origin_j = img_h//2\n",
    "\n",
    "    for i in range(0, img_w):\n",
    "        for j in range(0, img_h):\n",
    "            for k in range(0, 3):\n",
    "                ij = np.array([[i - origin_i], [j - origin_j]])\n",
    "\n",
    "                ij_new = (rotation_matrix @ ij).reshape(2)\n",
    "\n",
    "                i_new = int(round(ij_new[0], 0)) + origin_i\n",
    "                j_new = int(round(ij_new[1], 0)) + origin_j\n",
    "\n",
    "                if i_new >= img_w or i_new < 0:\n",
    "                    continue\n",
    "                if j_new >= img_h or j_new < 0:\n",
    "                    continue\n",
    "\n",
    "                rotated[i_new, j_new, k] = image[i,j,k]\n",
    "\n",
    "    return rotated\n",
    "\n",
    "def shear_rotate_image(image, angle):\n",
    "    rotated = np.zeros(image.shape, dtype='uint8')\n",
    "    result = image\n",
    "    \n",
    "    img_w = image.shape[0]\n",
    "    img_h = image.shape[1]\n",
    "\n",
    "    origin_i = img_w//2\n",
    "    origin_j = img_h//2\n",
    "    \n",
    "    shear_1 = np.array([\n",
    "        [1, -np.tan(angle*np.pi/360)],\n",
    "        [0, 1]\n",
    "    ])\n",
    "    \n",
    "    shear_2 = np.array([\n",
    "        [1, 0],\n",
    "        [np.sin(angle*np.pi/180), 1]\n",
    "    ])\n",
    "    \n",
    "    for ind, shear in enumerate([shear_1, shear_2, shear_1]):\n",
    "        rotated = np.zeros(image.shape, dtype='uint8')\n",
    "\n",
    "        for i in range(0, img_w):\n",
    "            for j in range(0, img_h):\n",
    "                for k in range(0, 3):\n",
    "                    ij = np.array([[i - origin_i], [j - origin_j]])\n",
    "\n",
    "                    ij_new = (shear @ ij).reshape(2)\n",
    "\n",
    "                    i_new = int(round(ij_new[0], 0)) + origin_i\n",
    "                    j_new = int(round(ij_new[1], 0)) + origin_j\n",
    "\n",
    "                    if i_new >= img_w or i_new < 0:\n",
    "                        continue\n",
    "                    if j_new >= img_h or j_new < 0:\n",
    "                        continue\n",
    "\n",
    "                    rotated[i_new, j_new, k] = result[i,j,k]\n",
    "\n",
    "        result = rotated\n",
    "\n",
    "    return result"
   ]
  },
  {
   "cell_type": "code",
   "execution_count": null,
   "metadata": {},
   "outputs": [],
   "source": [
    "fig = plt.figure(figsize=(40, 100))\n",
    "\n",
    "for ind, angle in enumerate([27, 15, 76, 90]):\n",
    "    rotated = rotate_image(rgb, angle)\n",
    "    \n",
    "    fig.add_subplot(1, 4, ind + 1)\n",
    "    plt.imshow(rotated)\n",
    "\n",
    "\n",
    "plt.show()"
   ]
  },
  {
   "cell_type": "code",
   "execution_count": null,
   "metadata": {},
   "outputs": [],
   "source": [
    "fig = plt.figure(figsize=(40, 100))\n",
    "\n",
    "for ind, angle in enumerate([-27, -15, -76, -90]):\n",
    "    rotated = shear_rotate_image(rgb, angle)\n",
    "    \n",
    "    fig.add_subplot(1, 4, ind + 1)\n",
    "    plt.imshow(rotated)\n",
    "\n",
    "plt.show()"
   ]
  }
 ],
 "metadata": {
  "kernelspec": {
   "display_name": "Python 3",
   "language": "python",
   "name": "python3"
  },
  "language_info": {
   "codemirror_mode": {
    "name": "ipython",
    "version": 3
   },
   "file_extension": ".py",
   "mimetype": "text/x-python",
   "name": "python",
   "nbconvert_exporter": "python",
   "pygments_lexer": "ipython3",
   "version": "3.7.6"
  }
 },
 "nbformat": 4,
 "nbformat_minor": 4
}
